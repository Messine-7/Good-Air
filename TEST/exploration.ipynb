{
 "cells": [
  {
   "cell_type": "code",
   "execution_count": 1,
   "id": "577b7d06",
   "metadata": {},
   "outputs": [],
   "source": [
    "import requests\n",
    "import pandas as pd\n",
    "import json\n",
    "import numpy as np\n",
    "from datetime import datetime, timezone"
   ]
  },
  {
   "cell_type": "code",
   "execution_count": null,
   "id": "158bd73b",
   "metadata": {},
   "outputs": [],
   "source": [
    "# Configuration des APIs\n",
    "AQICN_API_KEY = \"d6dc128a0628a9274ab78ee69152ca8d572dc7cc\"\n",
    "OPENWEATHER_API_KEY = \"023152ef5f40e3d40ec1a93e58c38b6f\"\n",
    "\n",
    "# Villes françaises avec coordonnées\n",
    "FRENCH_CITIES = [\n",
    "    (\"Paris\", 48.8566, 2.3522),\n",
    "    (\"Marseille\", 43.2965, 5.3698),\n",
    "    (\"Lyon\", 45.7640, 4.8357),\n",
    "    (\"Toulouse\", 43.6045, 1.4440),\n",
    "    (\"Nice\", 43.7102, 7.2620),\n",
    "    (\"Nantes\", 47.2184, -1.5536),\n",
    "    (\"Montpellier\", 43.6109, 3.8772),\n",
    "    (\"Strasbourg\", 48.5734, 7.7521),\n",
    "    (\"Bordeaux\", 44.8378, -0.5792),\n",
    "    (\"Lille\", 50.6292, 3.0573),\n",
    "    (\"Rennes\", 48.1173, -1.6778),\n",
    "    (\"Reims\", 49.2583, 4.0317),\n",
    "    (\"Saint-Étienne\", 45.4397, 4.3872),\n",
    "    (\"Le Havre\", 49.4944, 0.1079),\n",
    "    (\"Toulon\", 43.1242, 5.9280),\n",
    "    (\"Grenoble\", 45.1885, 5.7245),\n",
    "    (\"Dijon\", 47.3220, 5.0415),\n",
    "    (\"Angers\", 47.4784, -0.5632),\n",
    "    (\"Nîmes\", 43.8367, 4.3601),\n",
    "    (\"Villeurbanne\", 45.7719, 4.8902)\n",
    "]"
   ]
  },
  {
   "cell_type": "markdown",
   "id": "1c0a51c3",
   "metadata": {},
   "source": [
    "OPENWEATHER"
   ]
  },
  {
   "cell_type": "code",
   "execution_count": null,
   "id": "36205adb",
   "metadata": {},
   "outputs": [
    {
     "name": "stdout",
     "output_type": "stream",
     "text": [
      "✅ Requête réussie : {'coord': {'lon': 2.3522, 'lat': 48.8566}, 'weather': [{'id': 800, 'main': 'Clear', 'description': 'ciel dégagé', 'icon': '01n'}], 'base': 'stations', 'main': {'temp': 23.42, 'feels_like': 22.91, 'temp_min': 21.77, 'temp_max': 24.05, 'pressure': 1014, 'humidity': 42, 'sea_level': 1014, 'grnd_level': 1004}, 'visibility': 10000, 'wind': {'speed': 2.06, 'deg': 120}, 'clouds': {'all': 0}, 'dt': 1756150844, 'sys': {'type': 2, 'id': 2012208, 'country': 'FR', 'sunrise': 1756097859, 'sunset': 1756147687}, 'timezone': 7200, 'id': 6455259, 'name': 'Paris', 'cod': 200}\n"
     ]
    }
   ],
   "source": [
    "import requests\n",
    "\n",
    "key = \"023152ef5f40e3d40ec1a93e58c38b6f\"s\n",
    "\n",
    "# ⚙️ Paramètres\n",
    "lat, lon = 48.8566, 2.3522  # Paris\n",
    "units = \"metric\"\n",
    "lang = \"fr\"\n",
    "\n",
    "# 🔗 URL One Call 3.0\n",
    "url = (\n",
    "    f\"https://api.openweathermap.org/data/2.5/weather?lat={lat}&lon={lon}&appid={key}&units=metric&lang=fr\"\n",
    ")\n",
    "\n",
    "response = requests.get(url)\n",
    "\n",
    "try:\n",
    "    response.raise_for_status()  \n",
    "    data = response.json()\n",
    "    print(\"✅ Requête réussie :\", data)\n",
    "except requests.exceptions.HTTPError as http_err:\n",
    "    print(f\"❌ Erreur HTTP : {response.status_code} - {http_err}\")\n",
    "except requests.exceptions.RequestException as req_err:\n",
    "    print(f\"⚠️ Erreur de requête : {req_err}\")\n",
    "except ValueError:\n",
    "    print(\"⚠️ Réponse reçue mais le JSON est invalide.\")\n"
   ]
  },
  {
   "cell_type": "code",
   "execution_count": 21,
   "id": "34fb67f9",
   "metadata": {},
   "outputs": [
    {
     "ename": "ValueError",
     "evalue": "Mixing dicts with non-Series may lead to ambiguous ordering.",
     "output_type": "error",
     "traceback": [
      "\u001b[31m---------------------------------------------------------------------------\u001b[39m",
      "\u001b[31mValueError\u001b[39m                                Traceback (most recent call last)",
      "\u001b[36mCell\u001b[39m\u001b[36m \u001b[39m\u001b[32mIn[21]\u001b[39m\u001b[32m, line 1\u001b[39m\n\u001b[32m----> \u001b[39m\u001b[32m1\u001b[39m \u001b[43mpd\u001b[49m\u001b[43m.\u001b[49m\u001b[43mDataFrame\u001b[49m\u001b[43m(\u001b[49m\u001b[43mdata\u001b[49m\u001b[43m)\u001b[49m\n",
      "\u001b[36mFile \u001b[39m\u001b[32md:\\Documents\\DATA Formation\\ALTERNANCE\\MSPR\\CODE\\Good-Air\\venv\\Lib\\site-packages\\pandas\\core\\frame.py:778\u001b[39m, in \u001b[36mDataFrame.__init__\u001b[39m\u001b[34m(self, data, index, columns, dtype, copy)\u001b[39m\n\u001b[32m    772\u001b[39m     mgr = \u001b[38;5;28mself\u001b[39m._init_mgr(\n\u001b[32m    773\u001b[39m         data, axes={\u001b[33m\"\u001b[39m\u001b[33mindex\u001b[39m\u001b[33m\"\u001b[39m: index, \u001b[33m\"\u001b[39m\u001b[33mcolumns\u001b[39m\u001b[33m\"\u001b[39m: columns}, dtype=dtype, copy=copy\n\u001b[32m    774\u001b[39m     )\n\u001b[32m    776\u001b[39m \u001b[38;5;28;01melif\u001b[39;00m \u001b[38;5;28misinstance\u001b[39m(data, \u001b[38;5;28mdict\u001b[39m):\n\u001b[32m    777\u001b[39m     \u001b[38;5;66;03m# GH#38939 de facto copy defaults to False only in non-dict cases\u001b[39;00m\n\u001b[32m--> \u001b[39m\u001b[32m778\u001b[39m     mgr = \u001b[43mdict_to_mgr\u001b[49m\u001b[43m(\u001b[49m\u001b[43mdata\u001b[49m\u001b[43m,\u001b[49m\u001b[43m \u001b[49m\u001b[43mindex\u001b[49m\u001b[43m,\u001b[49m\u001b[43m \u001b[49m\u001b[43mcolumns\u001b[49m\u001b[43m,\u001b[49m\u001b[43m \u001b[49m\u001b[43mdtype\u001b[49m\u001b[43m=\u001b[49m\u001b[43mdtype\u001b[49m\u001b[43m,\u001b[49m\u001b[43m \u001b[49m\u001b[43mcopy\u001b[49m\u001b[43m=\u001b[49m\u001b[43mcopy\u001b[49m\u001b[43m,\u001b[49m\u001b[43m \u001b[49m\u001b[43mtyp\u001b[49m\u001b[43m=\u001b[49m\u001b[43mmanager\u001b[49m\u001b[43m)\u001b[49m\n\u001b[32m    779\u001b[39m \u001b[38;5;28;01melif\u001b[39;00m \u001b[38;5;28misinstance\u001b[39m(data, ma.MaskedArray):\n\u001b[32m    780\u001b[39m     \u001b[38;5;28;01mfrom\u001b[39;00m\u001b[38;5;250m \u001b[39m\u001b[34;01mnumpy\u001b[39;00m\u001b[34;01m.\u001b[39;00m\u001b[34;01mma\u001b[39;00m\u001b[38;5;250m \u001b[39m\u001b[38;5;28;01mimport\u001b[39;00m mrecords\n",
      "\u001b[36mFile \u001b[39m\u001b[32md:\\Documents\\DATA Formation\\ALTERNANCE\\MSPR\\CODE\\Good-Air\\venv\\Lib\\site-packages\\pandas\\core\\internals\\construction.py:503\u001b[39m, in \u001b[36mdict_to_mgr\u001b[39m\u001b[34m(data, index, columns, dtype, typ, copy)\u001b[39m\n\u001b[32m    499\u001b[39m     \u001b[38;5;28;01melse\u001b[39;00m:\n\u001b[32m    500\u001b[39m         \u001b[38;5;66;03m# dtype check to exclude e.g. range objects, scalars\u001b[39;00m\n\u001b[32m    501\u001b[39m         arrays = [x.copy() \u001b[38;5;28;01mif\u001b[39;00m \u001b[38;5;28mhasattr\u001b[39m(x, \u001b[33m\"\u001b[39m\u001b[33mdtype\u001b[39m\u001b[33m\"\u001b[39m) \u001b[38;5;28;01melse\u001b[39;00m x \u001b[38;5;28;01mfor\u001b[39;00m x \u001b[38;5;129;01min\u001b[39;00m arrays]\n\u001b[32m--> \u001b[39m\u001b[32m503\u001b[39m \u001b[38;5;28;01mreturn\u001b[39;00m \u001b[43marrays_to_mgr\u001b[49m\u001b[43m(\u001b[49m\u001b[43marrays\u001b[49m\u001b[43m,\u001b[49m\u001b[43m \u001b[49m\u001b[43mcolumns\u001b[49m\u001b[43m,\u001b[49m\u001b[43m \u001b[49m\u001b[43mindex\u001b[49m\u001b[43m,\u001b[49m\u001b[43m \u001b[49m\u001b[43mdtype\u001b[49m\u001b[43m=\u001b[49m\u001b[43mdtype\u001b[49m\u001b[43m,\u001b[49m\u001b[43m \u001b[49m\u001b[43mtyp\u001b[49m\u001b[43m=\u001b[49m\u001b[43mtyp\u001b[49m\u001b[43m,\u001b[49m\u001b[43m \u001b[49m\u001b[43mconsolidate\u001b[49m\u001b[43m=\u001b[49m\u001b[43mcopy\u001b[49m\u001b[43m)\u001b[49m\n",
      "\u001b[36mFile \u001b[39m\u001b[32md:\\Documents\\DATA Formation\\ALTERNANCE\\MSPR\\CODE\\Good-Air\\venv\\Lib\\site-packages\\pandas\\core\\internals\\construction.py:114\u001b[39m, in \u001b[36marrays_to_mgr\u001b[39m\u001b[34m(arrays, columns, index, dtype, verify_integrity, typ, consolidate)\u001b[39m\n\u001b[32m    111\u001b[39m \u001b[38;5;28;01mif\u001b[39;00m verify_integrity:\n\u001b[32m    112\u001b[39m     \u001b[38;5;66;03m# figure out the index, if necessary\u001b[39;00m\n\u001b[32m    113\u001b[39m     \u001b[38;5;28;01mif\u001b[39;00m index \u001b[38;5;129;01mis\u001b[39;00m \u001b[38;5;28;01mNone\u001b[39;00m:\n\u001b[32m--> \u001b[39m\u001b[32m114\u001b[39m         index = \u001b[43m_extract_index\u001b[49m\u001b[43m(\u001b[49m\u001b[43marrays\u001b[49m\u001b[43m)\u001b[49m\n\u001b[32m    115\u001b[39m     \u001b[38;5;28;01melse\u001b[39;00m:\n\u001b[32m    116\u001b[39m         index = ensure_index(index)\n",
      "\u001b[36mFile \u001b[39m\u001b[32md:\\Documents\\DATA Formation\\ALTERNANCE\\MSPR\\CODE\\Good-Air\\venv\\Lib\\site-packages\\pandas\\core\\internals\\construction.py:680\u001b[39m, in \u001b[36m_extract_index\u001b[39m\u001b[34m(data)\u001b[39m\n\u001b[32m    677\u001b[39m     \u001b[38;5;28;01mraise\u001b[39;00m \u001b[38;5;167;01mValueError\u001b[39;00m(\u001b[33m\"\u001b[39m\u001b[33mAll arrays must be of the same length\u001b[39m\u001b[33m\"\u001b[39m)\n\u001b[32m    679\u001b[39m \u001b[38;5;28;01mif\u001b[39;00m have_dicts:\n\u001b[32m--> \u001b[39m\u001b[32m680\u001b[39m     \u001b[38;5;28;01mraise\u001b[39;00m \u001b[38;5;167;01mValueError\u001b[39;00m(\n\u001b[32m    681\u001b[39m         \u001b[33m\"\u001b[39m\u001b[33mMixing dicts with non-Series may lead to ambiguous ordering.\u001b[39m\u001b[33m\"\u001b[39m\n\u001b[32m    682\u001b[39m     )\n\u001b[32m    684\u001b[39m \u001b[38;5;28;01mif\u001b[39;00m have_series:\n\u001b[32m    685\u001b[39m     \u001b[38;5;28;01mif\u001b[39;00m lengths[\u001b[32m0\u001b[39m] != \u001b[38;5;28mlen\u001b[39m(index):\n",
      "\u001b[31mValueError\u001b[39m: Mixing dicts with non-Series may lead to ambiguous ordering."
     ]
    }
   ],
   "source": [
    "pd.DataFrame(data)"
   ]
  }
 ],
 "metadata": {
  "kernelspec": {
   "display_name": "venv (3.11.3)",
   "language": "python",
   "name": "python3"
  },
  "language_info": {
   "codemirror_mode": {
    "name": "ipython",
    "version": 3
   },
   "file_extension": ".py",
   "mimetype": "text/x-python",
   "name": "python",
   "nbconvert_exporter": "python",
   "pygments_lexer": "ipython3",
   "version": "3.11.3"
  }
 },
 "nbformat": 4,
 "nbformat_minor": 5
}

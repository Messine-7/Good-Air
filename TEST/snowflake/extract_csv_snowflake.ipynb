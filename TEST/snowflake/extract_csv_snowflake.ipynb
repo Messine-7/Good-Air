{
 "cells": [
  {
   "cell_type": "code",
   "execution_count": null,
   "id": "9a90b143",
   "metadata": {},
   "outputs": [],
   "source": []
  },
  {
   "cell_type": "code",
   "execution_count": 5,
   "id": "6917ab8a",
   "metadata": {},
   "outputs": [],
   "source": [
    "import pandas as pd\n",
    "import snowflake.connector"
   ]
  },
  {
   "cell_type": "code",
   "execution_count": 6,
   "id": "df9ba0c4",
   "metadata": {},
   "outputs": [],
   "source": [
    "# Connexion à Snowflake\n",
    "conn = snowflake.connector.connect(\n",
    "    user=\"LouK\",\n",
    "    password=\"Snowflake_08230!\",\n",
    "    account=\"ZQQYYBI-EM82872\",  # ex: \"abcd-xy12345.europe-west4.gcp\"\n",
    "    warehouse=\"COMPUTE_WH\",\n",
    "    database=\"GOOD_AIR\",\n",
    "    schema=\"TRANSFORMED\"\n",
    ")"
   ]
  },
  {
   "cell_type": "code",
   "execution_count": 7,
   "id": "86ec717d",
   "metadata": {},
   "outputs": [],
   "source": [
    "tables = [\"AQICN_CLEAN\",\"DIM_CITY\",\"HUBEAU_CLEAN\",\"WEATHER_CLEAN\"]\n",
    "cur = conn.cursor()\n",
    "\n",
    "for table in tables :\n",
    "    cur.execute(f\"SELECT * FROM {table}\")\n",
    "    df = cur.fetch_pandas_all()\n",
    "    df.to_csv(f\"{table}.csv\", index=False)"
   ]
  },
  {
   "cell_type": "code",
   "execution_count": 8,
   "id": "952598f1",
   "metadata": {},
   "outputs": [],
   "source": [
    "# Connexion à Snowflake\n",
    "conn = snowflake.connector.connect(\n",
    "    user=\"LouK\",\n",
    "    password=\"Snowflake_08230!\",\n",
    "    account=\"ZQQYYBI-EM82872\",  # ex: \"abcd-xy12345.europe-west4.gcp\"\n",
    "    warehouse=\"COMPUTE_WH\",\n",
    "    database=\"GOOD_AIR\",\n",
    "    schema=\"RAW\"\n",
    ")"
   ]
  },
  {
   "cell_type": "code",
   "execution_count": 9,
   "id": "11a687aa",
   "metadata": {},
   "outputs": [],
   "source": [
    "tables = [\"AQICN_API\", \"WEATHER_API\"]\n",
    "cur = conn.cursor()\n",
    "\n",
    "for table in tables :\n",
    "    cur.execute(f\"SELECT * FROM {table}\")\n",
    "    df = cur.fetch_pandas_all()\n",
    "    df.to_csv(f\"{table}.csv\", index=False)"
   ]
  }
 ],
 "metadata": {
  "kernelspec": {
   "display_name": "venv (3.11.9)",
   "language": "python",
   "name": "python3"
  },
  "language_info": {
   "codemirror_mode": {
    "name": "ipython",
    "version": 3
   },
   "file_extension": ".py",
   "mimetype": "text/x-python",
   "name": "python",
   "nbconvert_exporter": "python",
   "pygments_lexer": "ipython3",
   "version": "3.11.9"
  }
 },
 "nbformat": 4,
 "nbformat_minor": 5
}

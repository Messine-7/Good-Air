{
 "cells": [
  {
   "cell_type": "code",
   "execution_count": 9,
   "id": "577b7d06",
   "metadata": {},
   "outputs": [],
   "source": [
    "import requests\n",
    "import pandas as pd\n",
    "import json\n",
    "import numpy as np\n",
    "from datetime import datetime, timezone"
   ]
  },
  {
   "cell_type": "code",
   "execution_count": 6,
   "id": "158bd73b",
   "metadata": {},
   "outputs": [],
   "source": [
    "# Configuration des APIs\n",
    "AQICN_API_KEY = \"d6dc128a0628a9274ab78ee69152ca8d572dc7cc\"\n",
    "OPENWEATHER_API_KEY = \"dd2d8c2c92a3ebe773b453884a7f08c0\"\n",
    "\n",
    "# Villes françaises avec coordonnées\n",
    "FRENCH_CITIES = [\n",
    "    (\"Paris\", 48.8566, 2.3522),\n",
    "    (\"Marseille\", 43.2965, 5.3698),\n",
    "    (\"Lyon\", 45.7640, 4.8357),\n",
    "    (\"Toulouse\", 43.6045, 1.4440),\n",
    "    (\"Nice\", 43.7102, 7.2620),\n",
    "    (\"Nantes\", 47.2184, -1.5536),\n",
    "    (\"Montpellier\", 43.6109, 3.8772),\n",
    "    (\"Strasbourg\", 48.5734, 7.7521),\n",
    "    (\"Bordeaux\", 44.8378, -0.5792),\n",
    "    (\"Lille\", 50.6292, 3.0573),\n",
    "    (\"Rennes\", 48.1173, -1.6778),\n",
    "    (\"Reims\", 49.2583, 4.0317),\n",
    "    (\"Saint-Étienne\", 45.4397, 4.3872),\n",
    "    (\"Le Havre\", 49.4944, 0.1079),\n",
    "    (\"Toulon\", 43.1242, 5.9280),\n",
    "    (\"Grenoble\", 45.1885, 5.7245),\n",
    "    (\"Dijon\", 47.3220, 5.0415),\n",
    "    (\"Angers\", 47.4784, -0.5632),\n",
    "    (\"Nîmes\", 43.8367, 4.3601),\n",
    "    (\"Villeurbanne\", 45.7719, 4.8902)\n",
    "]"
   ]
  },
  {
   "cell_type": "code",
   "execution_count": 3,
   "id": "30cf3b63",
   "metadata": {},
   "outputs": [
    {
     "data": {
      "text/plain": [
       "20"
      ]
     },
     "execution_count": 3,
     "metadata": {},
     "output_type": "execute_result"
    }
   ],
   "source": [
    "len(FRENCH_CITIES)"
   ]
  },
  {
   "cell_type": "markdown",
   "id": "1c0a51c3",
   "metadata": {},
   "source": [
    "OPENWEATHER"
   ]
  },
  {
   "cell_type": "code",
   "execution_count": null,
   "id": "b858cae8",
   "metadata": {},
   "outputs": [],
   "source": [
    "#test appel API\n",
    "WEATHER_URL = \"https://api.openweathermap.org/data/2.5/weather?lat={lat}&lon={lon}&appid={key}&units=metric&lang=fr\""
   ]
  },
  {
   "cell_type": "code",
   "execution_count": 11,
   "id": "6e61b49a",
   "metadata": {},
   "outputs": [
    {
     "name": "stdout",
     "output_type": "stream",
     "text": [
      "=== Météo actuelle ===\n",
      "Empty DataFrame\n",
      "Columns: []\n",
      "Index: []\n",
      "\n",
      "=== Prévisions quotidiennes ===\n",
      "Empty DataFrame\n",
      "Columns: []\n",
      "Index: []\n"
     ]
    }
   ],
   "source": [
    "# ⚙️ Paramètres\n",
    "lat, lon = 48.8566, 2.3522  # Paris\n",
    "units = \"metric\"\n",
    "lang = \"fr\"\n",
    "\n",
    "# 🔗 URL One Call 3.0\n",
    "url = f\"https://api.openweathermap.org/data/3.0/onecall?lat={lat}&lon={lon}&exclude=air_pollution&units={units}&lang={lang}&appid={OPENWEATHER_API_KEY}\"\n",
    "\n",
    "\n",
    "response = requests.get(url)\n",
    "data = response.json()\n",
    "\n",
    "# Vérification du timezone_offset\n",
    "tz_offset = data.get('timezone_offset', 0)  # si absent, on prend 0 (UTC)\n",
    "\n",
    "def convert_timestamp(ts, tz_offset=0):\n",
    "    return datetime.fromtimestamp(ts + tz_offset, tz=timezone.utc)\n",
    "\n",
    "# Météo actuelle\n",
    "current = data.get('current', {})\n",
    "if current:\n",
    "    current_df = pd.DataFrame([{\n",
    "        'datetime': convert_timestamp(current.get('dt', 0), tz_offset),\n",
    "        'temp': current.get('temp'),\n",
    "        'feels_like': current.get('feels_like'),\n",
    "        'humidity': current.get('humidity'),\n",
    "        'pressure': current.get('pressure'),\n",
    "        'clouds': current.get('clouds'),\n",
    "        'wind_speed': current.get('wind_speed'),\n",
    "        'wind_deg': current.get('wind_deg'),\n",
    "        'description': current.get('weather', [{}])[0].get('description')\n",
    "    }])\n",
    "else:\n",
    "    current_df = pd.DataFrame()  # DataFrame vide si current absent\n",
    "\n",
    "# Prévisions quotidiennes\n",
    "daily_list = []\n",
    "for day in data.get('daily', []):\n",
    "    daily_list.append({\n",
    "        'date': convert_timestamp(day.get('dt',0), tz_offset).date(),\n",
    "        'temp_min': day.get('temp', {}).get('min'),\n",
    "        'temp_max': day.get('temp', {}).get('max'),\n",
    "        'humidity': day.get('humidity'),\n",
    "        'pressure': day.get('pressure'),\n",
    "        'clouds': day.get('clouds'),\n",
    "        'wind_speed': day.get('wind_speed'),\n",
    "        'wind_deg': day.get('wind_deg'),\n",
    "        'description': day.get('weather', [{}])[0].get('description')\n",
    "    })\n",
    "\n",
    "daily_df = pd.DataFrame(daily_list)\n",
    "\n",
    "# Affichage\n",
    "print(\"=== Météo actuelle ===\")\n",
    "print(current_df)\n",
    "print(\"\\n=== Prévisions quotidiennes ===\")\n",
    "print(daily_df)\n"
   ]
  }
 ],
 "metadata": {
  "kernelspec": {
   "display_name": "venv (3.11.3)",
   "language": "python",
   "name": "python3"
  },
  "language_info": {
   "codemirror_mode": {
    "name": "ipython",
    "version": 3
   },
   "file_extension": ".py",
   "mimetype": "text/x-python",
   "name": "python",
   "nbconvert_exporter": "python",
   "pygments_lexer": "ipython3",
   "version": "3.11.3"
  }
 },
 "nbformat": 4,
 "nbformat_minor": 5
}
